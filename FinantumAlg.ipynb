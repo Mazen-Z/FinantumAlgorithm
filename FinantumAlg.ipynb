{
 "cells": [
  {
   "cell_type": "code",
   "execution_count": null,
   "metadata": {},
   "outputs": [],
   "source": [
    "import pandas as pd\n",
    "import numpy as np\n",
    "from qiskit import QuantumCircuit\n",
    "from qiskit.circuit.library import TwoLocal\n",
    "from qiskit.primitives import Estimator  \n",
    "from qiskit_algorithms.minimum_eigensolvers import VQE  \n",
    "from qiskit_algorithms.optimizers import COBYLA\n",
    "from qiskit.quantum_info import SparsePauliOp \n",
    "from qiskit.quantum_info import Pauli\n",
    "from qiskit_finance.applications.optimization import PortfolioOptimization\n",
    "from qiskit_finance.data_providers import RandomDataProvider\n",
    "from qiskit.result import QuasiDistribution\n",
    "from qiskit_aer.primitives import Sampler\n",
    "from qiskit_algorithms import NumPyMinimumEigensolver, QAOA, SamplingVQE\n",
    "from qiskit_optimization.algorithms import MinimumEigenOptimizer\n",
    "import matplotlib.pyplot as plt\n",
    "import datetime"
   ]
  },
  {
   "cell_type": "markdown",
   "metadata": {},
   "source": [
    "Hamiltonian Equation Params"
   ]
  },
  {
   "cell_type": "code",
   "execution_count": null,
   "metadata": {},
   "outputs": [],
   "source": [
    "\n",
    "# load CSV files\n",
    "combined_stock_data_file = 'combined_stock_data_final.csv'\n",
    "covariance_file = 'covariance (1).csv'\n",
    "stock_summary_file = 'stock_summary_statistics (1).csv'\n",
    "\n",
    "# read files into dataframes\n",
    "combined_stock_data = pd.read_csv(combined_stock_data_file)\n",
    "covariance_data = pd.read_csv(covariance_file)\n",
    "stock_summary_data = pd.read_csv(stock_summary_file)\n",
    "\n",
    "# display contents of files to get an understanding of data\n",
    "combined_stock_data.head(), covariance_data.head(), stock_summary_data.head()\n"
   ]
  },
  {
   "cell_type": "markdown",
   "metadata": {},
   "source": [
    "## Hamiltonian constructor\n",
    "\n",
    "we're using a built in function called Portfolio Optiizer that acts as the constructor\n",
    "\n",
    "## Suggested Risk Aversion Levels:\n",
    "### Low Risk Aversion (10-30%):\n",
    " Suitable if you’re focused on maximizing returns and are willing to tolerate some volatility. This range is more aggressive and is typical for growth-oriented investors.\n",
    "### Moderate Risk Aversion (30-50%): \n",
    "This strikes a balance between growth and risk. It’s suitable if you want solid returns but are also mindful of protecting your portfolio during downturns. For tech stocks, this could be an ideal range.\n",
    "### High Risk Aversion (50-70%): \n",
    "Suitable for very conservative investors who prioritize minimizing losses over maximizing gains. This is often used in portfolios with bonds or defensive stocks, but for safe tech stocks, it could be too conservative."
   ]
  },
  {
   "cell_type": "code",
   "execution_count": null,
   "metadata": {},
   "outputs": [],
   "source": [
    "# extract relevant data for constructing Hamiltonian\n",
    "mean_returns = stock_summary_data['Mean Return'].values\n",
    "cov_matrix = covariance_data.iloc[:, 1:].values  # Exclude first column which has stock names\n",
    "\n",
    "num_assets = len(mean_returns)\n",
    "terms = []\n",
    "coeffs = []\n",
    "\n",
    "# loop through assets to construct Hamiltonian\n",
    "for i in range(num_assets):\n",
    "    # Risk part: Covariance terms\n",
    "    for j in range(i + 1, num_assets):\n",
    "        pauli_label = 'Z' * i + 'I' * (num_assets - i - 1)\n",
    "        pauli = Pauli(pauli_label)\n",
    "        coeff = cov_matrix[i, j]\n",
    "        terms.append(pauli)\n",
    "        coeffs.append(coeff)\n",
    "    \n",
    "    # Return part: Mean return term\n",
    "    pauli_label = 'Z' * i + 'I' * (num_assets - i - 1)\n",
    "    pauli = Pauli(pauli_label)\n",
    "    coeff = -mean_returns[i]\n",
    "    terms.append(pauli)\n",
    "    coeffs.append(coeff)\n",
    "\n",
    "# convert into SparsePauliOp\n",
    "hamiltonian = SparsePauliOp.from_list([(p.to_label(), c) for p, c in zip(terms, coeffs)])\n"
   ]
  },
  {
   "cell_type": "markdown",
   "metadata": {},
   "source": [
    "Ansatz is the curcuit used in a VQE. We can use a pre-built one for now. TwoLocal is used in VQEs\n",
    "\n",
    "We'll use the built in VQE algorithm to create the output. All built in functions used were created by IBM engineers"
   ]
  },
  {
   "cell_type": "code",
   "execution_count": null,
   "metadata": {},
   "outputs": [],
   "source": [
    "# Step 1: define TwoLocal ansatz for VQE\n",
    "ansatz = TwoLocal(num_qubits=num_assets, reps=2, rotation_blocks='ry', entanglement_blocks='cz')\n",
    "\n",
    "# Step 2: set up VQE with Estimator, ansatz, and COBYLA optimizer\n",
    "estimator = Estimator()\n",
    "cobayla = COBYLA(maxiter=2) # chooses number of iters to run\n",
    "vqe = VQE(estimator=estimator, ansatz=ansatz, optimizer=cobayla)\n",
    "\n",
    "# Step 3: run VQE to compute minimum eigenvalue of Hamiltonian\n",
    "result = vqe.compute_minimum_eigenvalue(hamiltonian)\n",
    "\n",
    "# Step 4: output results (minimum eigenvalue and optimal portfolio configuration)\n",
    "print(\"Minimum Eigenvalue (Risk-Return Tradeoff):\", result.eigenvalue.real)\n",
    "\n",
    "def print_readable_optimal_params(optimal_params):\n",
    "    print(\"\\nOptimal Portfolio Parameters (Qubit Rotations):\")\n",
    "    \n",
    "    for param, value in optimal_params.items():\n",
    "        # The 'param' is a ParameterVectorElement object, which has a label 'θ[i]'\n",
    "        print(f\"{param}: {value:.4f}\")\n",
    "\n",
    "# run VQE to compute minimum eigenvalue of Hamiltonian\n",
    "result = vqe.compute_minimum_eigenvalue(hamiltonian)\n",
    "\n",
    "# Step 5: output results (minimum eigenvalue and optimal portfolio configuration)\n",
    "print(\"Minimum Eigenvalue (Risk-Return Tradeoff):\", result.eigenvalue.real)\n",
    "print_readable_optimal_params(result.optimal_parameters)"
   ]
  },
  {
   "cell_type": "markdown",
   "metadata": {},
   "source": [
    "Readable output that selects the stocks to add to our portfolio. Threshold should be changed during testing phase"
   ]
  },
  {
   "cell_type": "code",
   "execution_count": null,
   "metadata": {},
   "outputs": [],
   "source": [
    "def select_optimal_portfolio(optimal_params, asset_names, budget, threshold=np.pi/2):\n",
    "    \"\"\"\n",
    "    Convert optimal parameters (rotation angles) into binary decisions for portfolio selection.\n",
    "    Assign a portion of the total budget based on the parameter values.\n",
    "    \n",
    "    Args we used:\n",
    "    - optimal_params: Dictionary of optimal rotation angles from the VQE result.\n",
    "    - asset_names: List of asset names by ticker.\n",
    "    - budget: The total amount of money available to invest.\n",
    "    - threshold: The threshold for deciding whether to include a stock in the portfolio.\n",
    "    \n",
    "    Returns:\n",
    "    - A list of selected assets.\n",
    "    \"\"\"\n",
    "    print(\"\\nOptimal Portfolio Selection:\")\n",
    "    \n",
    "    selected_assets = []\n",
    "    allocations = {}\n",
    "    \n",
    "    num_assets = len(asset_names)\n",
    "    param_values = list(optimal_params.values()) \n",
    "\n",
    "    grouped_params = np.array_split(param_values, num_assets)\n",
    "    \n",
    "    aggregated_params = [abs(np.mean(group)) for group in grouped_params]\n",
    "\n",
    "    total_param_sum = sum(aggregated_params) \n",
    "    \n",
    "    for i, asset_name in enumerate(asset_names):\n",
    "        aggregated_param = aggregated_params[i]\n",
    "        \n",
    "        if aggregated_param > threshold:\n",
    "            decision = \"Include\"\n",
    "            selected_assets.append(asset_name)\n",
    "            \n",
    "            weight = aggregated_param / total_param_sum\n",
    "            money_allocated = budget * weight\n",
    "            allocations[asset_name] = {\n",
    "                'Percentage': weight * 100,\n",
    "                'Monetary': money_allocated\n",
    "            }\n",
    "        else:\n",
    "            decision = \"Do not include\"\n",
    "        \n",
    "        print(f\"Stock {asset_name}: {decision} (Aggregated Rotation = {aggregated_param:.4f})\")\n",
    "    \n",
    "    return selected_assets, allocations\n",
    "# asset name can be changed based on stocks being used\n",
    "asset_names = ['AAPL', 'AMZN', 'GOOGL', 'FB', 'NVDA', 'ADBE', 'MSFT', 'AMD', 'INTC', 'TSLA', 'IBM', 'ORCL', 'JPM', 'CRM', 'MS', 'NOW', 'PLTR', 'LMT', 'DIS', 'WFC']  # Example stock names\n",
    "budget = 100000 \n",
    "\n",
    "result = vqe.compute_minimum_eigenvalue(hamiltonian)\n",
    "\n",
    "# select optimal portfolio based on threshold and calculate allocations\n",
    "selected_assets, allocations = select_optimal_portfolio(result.optimal_parameters, asset_names, budget)\n",
    "\n",
    "# print final selected assets and their allocations\n",
    "print(\"\\nSelected Assets for Optimal Portfolio and Budget Allocations:\")\n",
    "for asset, alloc in allocations.items():\n",
    "    print(f\"{asset}: {alloc['Percentage']:.2f}% of budget, ${alloc['Monetary']:.2f}\")\n"
   ]
  }
 ],
 "metadata": {
  "kernelspec": {
   "display_name": "base",
   "language": "python",
   "name": "python3"
  },
  "language_info": {
   "codemirror_mode": {
    "name": "ipython",
    "version": 3
   },
   "file_extension": ".py",
   "mimetype": "text/x-python",
   "name": "python",
   "nbconvert_exporter": "python",
   "pygments_lexer": "ipython3",
   "version": "3.12.4"
  }
 },
 "nbformat": 4,
 "nbformat_minor": 2
}
